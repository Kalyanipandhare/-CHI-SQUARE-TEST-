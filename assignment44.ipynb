{
 "cells": [
  {
   "cell_type": "code",
   "execution_count": null,
   "id": "12d71174-2824-4366-813c-23cf0f977b93",
   "metadata": {},
   "outputs": [],
   "source": [
    "\"\"\"CHI-SQUARE TEST\"\"\""
   ]
  },
  {
   "cell_type": "code",
   "execution_count": 2,
   "id": "7a86ef5e-0c95-428d-b153-f2c3a6edf7b1",
   "metadata": {},
   "outputs": [
    {
     "name": "stdout",
     "output_type": "stream",
     "text": [
      "Observed Data (Contingency Table):\n",
      "                  Smart Thermostat  Smart Light\n",
      "Very Satisfied                  50           70\n",
      "Satisfied                       80          100\n",
      "Neutral                         60           90\n",
      "Unsatisfied                     30           50\n",
      "Very Unsatisfied                20           50\n",
      "\n",
      "Expected Frequencies:\n",
      "                  Smart Thermostat  Smart Light\n",
      "Very Satisfied                48.0         72.0\n",
      "Satisfied                     72.0        108.0\n",
      "Neutral                       60.0         90.0\n",
      "Unsatisfied                   32.0         48.0\n",
      "Very Unsatisfied              28.0         42.0\n",
      "\n",
      "Chi-Square Statistic: 5.6382\n",
      "Degrees of Freedom: 4\n",
      "P-Value: 0.2278\n",
      "\n",
      "Critical Value at alpha = 0.05: 9.4877\n",
      "\n",
      "Conclusion: we accept null hypothesis\n",
      "There is no significant association between device type and customer satisfaction.\n"
     ]
    }
   ],
   "source": [
    "\n",
    "\n",
    "import numpy as np\n",
    "import scipy.stats as stats\n",
    "import pandas as pd\n",
    "\n",
    "# Step 1: State the Hypotheses\n",
    "# H0 (Null Hypothesis): Device type and satisfaction level are independent (no association).\n",
    "# H1 (Alternative Hypothesis): Device type and satisfaction level are not independent (association exists).\n",
    "\n",
    "# Step 2: Input the observed data (contingency table)\n",
    "observed = np.array([\n",
    "    [50, 70],   # Very Satisfied\n",
    "    [80, 100],  # Satisfied\n",
    "    [60, 90],   # Neutral\n",
    "    [30, 50],   # Unsatisfied\n",
    "    [20, 50]    # Very Unsatisfied\n",
    "])\n",
    "\n",
    "# Convert to DataFrame for clarity \n",
    "df_observed = pd.DataFrame(\n",
    "    observed,\n",
    "    columns=[\"Smart Thermostat\", \"Smart Light\"],\n",
    "    index=[\"Very Satisfied\", \"Satisfied\", \"Neutral\", \"Unsatisfied\", \"Very Unsatisfied\"]\n",
    ")\n",
    "\n",
    "print(\"Observed Data (Contingency Table):\")\n",
    "print(df_observed)\n",
    "print()\n",
    "\n",
    "# Step 3: Compute the Chi-Square Statistic\n",
    "chi2_stat, p_val, dof, expected = stats.chi2_contingency(observed)\n",
    "\n",
    "# Print expected frequencies\n",
    "df_expected = pd.DataFrame(\n",
    "    expected,\n",
    "    columns=[\"Smart Thermostat\", \"Smart Light\"],\n",
    "    index=[\"Very Satisfied\", \"Satisfied\", \"Neutral\", \"Unsatisfied\", \"Very Unsatisfied\"]\n",
    ")\n",
    "\n",
    "print(\"Expected Frequencies:\")\n",
    "print(df_expected)\n",
    "print()\n",
    "\n",
    "print(f\"Chi-Square Statistic: {chi2_stat:.4f}\")\n",
    "print(f\"Degrees of Freedom: {dof}\")\n",
    "print(f\"P-Value: {p_val:.4f}\")\n",
    "print()\n",
    "\n",
    "# Step 4: Determine the critical value and make a decision\n",
    "alpha = 0.05\n",
    "critical_value = stats.chi2.ppf(1 - alpha, dof)\n",
    "\n",
    "print(f\"Critical Value at alpha = 0.05: {critical_value:.4f}\")\n",
    "print()\n",
    "\n",
    "# Step 5: Conclusion\n",
    "if chi2_stat > critical_value:\n",
    "    print(\"Conclusion: Reject the null hypothesis.\")\n",
    "    print(\"There is a significant association between device type and customer satisfaction.\")\n",
    "else:\n",
    "    print(\"Conclusion: we accept null hypothesis\")\n",
    "    print(\"There is no significant association between device type and customer satisfaction.\")\n"
   ]
  },
  {
   "cell_type": "code",
   "execution_count": null,
   "id": "5857debd-3662-480b-aa66-d0ee0167506a",
   "metadata": {},
   "outputs": [],
   "source": [
    "\"\"\"Degrees of Freedom (df)\n",
    "df=(rows−1)×(columns−1)=(5−1)(2−1)=4\n",
    "Critical Value\n",
    "From Chi-square table: χ²(0.05, 4) ≈ 9.488\n",
    "Conclusion: \n",
    "Since χ² = 6.39 < 9.49, we accept null hypothesis\"\"\"\n",
    "\n"
   ]
  }
 ],
 "metadata": {
  "kernelspec": {
   "display_name": "Python 3 (ipykernel)",
   "language": "python",
   "name": "python3"
  },
  "language_info": {
   "codemirror_mode": {
    "name": "ipython",
    "version": 3
   },
   "file_extension": ".py",
   "mimetype": "text/x-python",
   "name": "python",
   "nbconvert_exporter": "python",
   "pygments_lexer": "ipython3",
   "version": "3.12.4"
  }
 },
 "nbformat": 4,
 "nbformat_minor": 5
}
